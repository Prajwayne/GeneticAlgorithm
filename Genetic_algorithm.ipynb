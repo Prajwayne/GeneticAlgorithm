{
  "nbformat": 4,
  "nbformat_minor": 0,
  "metadata": {
    "colab": {
      "provenance": [],
      "authorship_tag": "ABX9TyPNi8xfKAGPpS1ACgTrrXGr",
      "include_colab_link": true
    },
    "kernelspec": {
      "name": "python3",
      "display_name": "Python 3"
    },
    "language_info": {
      "name": "python"
    }
  },
  "cells": [
    {
      "cell_type": "markdown",
      "metadata": {
        "id": "view-in-github",
        "colab_type": "text"
      },
      "source": [
        "<a href=\"https://colab.research.google.com/github/Prajwayne/GeneticAlgorithm/blob/main/Genetic_algorithm.ipynb\" target=\"_parent\"><img src=\"https://colab.research.google.com/assets/colab-badge.svg\" alt=\"Open In Colab\"/></a>"
      ]
    },
    {
      "cell_type": "code",
      "execution_count": 7,
      "metadata": {
        "id": "ndeRM3tUrxKI"
      },
      "outputs": [],
      "source": [
        "def foo(x,y,z):\n",
        "  return 6*x**3 + 9*y **2 + 90*z -25"
      ]
    },
    {
      "cell_type": "code",
      "source": [],
      "metadata": {
        "id": "RutxwU0NuMkt"
      },
      "execution_count": null,
      "outputs": []
    },
    {
      "cell_type": "markdown",
      "source": [
        "Fitness function check the function foo answer how close it is going to be to zero "
      ],
      "metadata": {
        "id": "j7ufPvp1uNXu"
      }
    },
    {
      "cell_type": "code",
      "source": [
        "def fitness(x,y,z):\n",
        "  ans  = foo(x,y,z)\n",
        "\n",
        "  if (ans == 0):\n",
        "    return 99999\n",
        "  else:\n",
        "    return abs(1/ans)# the answer more closer to zero the value will be greater "
      ],
      "metadata": {
        "id": "3uz3k0cit1zz"
      },
      "execution_count": 6,
      "outputs": []
    },
    {
      "cell_type": "markdown",
      "source": [
        "Make some random solution for the problem "
      ],
      "metadata": {
        "id": "FUxcMUc1vj24"
      }
    },
    {
      "cell_type": "code",
      "source": [
        "import random"
      ],
      "metadata": {
        "id": "l8rzW9-exNGR"
      },
      "execution_count": 1,
      "outputs": []
    },
    {
      "cell_type": "code",
      "source": [
        "solutions = []\n",
        "for i in range(1000):\n",
        "  solutions.append( (random.uniform(0,10000),\n",
        "                    random.uniform(0,10000),\n",
        "                     random.uniform(0,10000))) #append a new tuple \n",
        "\n",
        "#print(solutions[:5])"
      ],
      "metadata": {
        "id": "Co34bXpauzGj"
      },
      "execution_count": 4,
      "outputs": []
    },
    {
      "cell_type": "markdown",
      "source": [
        "next step : generate gnenetic algorithm "
      ],
      "metadata": {
        "id": "TqeHrKarxw5V"
      }
    },
    {
      "cell_type": "markdown",
      "source": [
        "the below code is going to generate a generation and run again "
      ],
      "metadata": {
        "id": "8JScN2bFx3Jm"
      }
    },
    {
      "cell_type": "code",
      "source": [
        "for i in range(10000):\n",
        "  rankedsolutions = []\n",
        "  for s in solutions:\n",
        "    rankedsolutions.append( (fitness (s[0],s[1],s[2]),s) )\n",
        "    rankedsolutions.sort()\n",
        "    rankedsolutions.reverse()\n",
        "\n",
        "    print(f\"=========Gen{i} Best solutions\")\n",
        "    print(rankedsolutions[0])\n",
        "    best_solutions = rankedsolutions [:100]\n",
        "\n",
        "\n",
        "    elements = []\n",
        "    for s in best_solutions:\n",
        "      elements.append(s[1][0])\n",
        "      elements.append(s[1][1])\n",
        "      elements.append(s[1][2])\n",
        "\n",
        "    newGen = []\n",
        "    for _ in best_solutions:\n",
        "      e1 = random.choice(elements) * random.uniform(0.99,1.01)\n",
        "      e2 = random.choice(elements) * random.uniform(0.99,1.01)\n",
        "      e3 = random.choice(elements) * random.uniform(0.99,1.01)\n",
        "      \n",
        "      newGen.append((e1,e2,e3))\n",
        "\n",
        "    solutions = newGen"
      ],
      "metadata": {
        "id": "swGaTRYbyPAf"
      },
      "execution_count": null,
      "outputs": []
    }
  ]
}