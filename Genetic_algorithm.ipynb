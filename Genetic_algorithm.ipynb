{
  "nbformat": 4,
  "nbformat_minor": 0,
  "metadata": {
    "colab": {
      "provenance": [],
      "authorship_tag": "ABX9TyOISDd66L/9Mci9QohSNb3A",
      "include_colab_link": true
    },
    "kernelspec": {
      "name": "python3",
      "display_name": "Python 3"
    },
    "language_info": {
      "name": "python"
    }
  },
  "cells": [
    {
      "cell_type": "markdown",
      "metadata": {
        "id": "view-in-github",
        "colab_type": "text"
      },
      "source": [
        "<a href=\"https://colab.research.google.com/github/Prajwayne/GeneticAlgorithm/blob/main/Genetic_algorithm.ipynb\" target=\"_parent\"><img src=\"https://colab.research.google.com/assets/colab-badge.svg\" alt=\"Open In Colab\"/></a>"
      ]
    },
    {
      "cell_type": "code",
      "execution_count": null,
      "metadata": {
        "id": "ndeRM3tUrxKI"
      },
      "outputs": [],
      "source": [
        "def foo(x,y,z):\n",
        "  return 6*x**3 + 9*y **2 + 90*z -25"
      ]
    },
    {
      "cell_type": "code",
      "source": [],
      "metadata": {
        "id": "RutxwU0NuMkt"
      },
      "execution_count": null,
      "outputs": []
    },
    {
      "cell_type": "markdown",
      "source": [
        "Fitness function check the function foo answer how close it is going to be to zero "
      ],
      "metadata": {
        "id": "j7ufPvp1uNXu"
      }
    },
    {
      "cell_type": "code",
      "source": [
        "def fitness(x,y,z):\n",
        "  ans  = foo(x,y,z)\n",
        "\n",
        "  if (ans == 0):\n",
        "    return 99999\n",
        "  else:\n",
        "    return abs(1/ans)# the answer more closer to zero the value will be greater "
      ],
      "metadata": {
        "id": "3uz3k0cit1zz"
      },
      "execution_count": null,
      "outputs": []
    },
    {
      "cell_type": "code",
      "source": [],
      "metadata": {
        "id": "Co34bXpauzGj"
      },
      "execution_count": null,
      "outputs": []
    }
  ]
}